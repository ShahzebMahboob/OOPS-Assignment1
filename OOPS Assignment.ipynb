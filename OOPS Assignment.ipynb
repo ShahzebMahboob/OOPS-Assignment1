{
 "cells": [
  {
   "cell_type": "markdown",
   "id": "a5c4b26a-46f3-4810-8e7d-556f335691c4",
   "metadata": {},
   "source": [
    "#Theory Questions"
   ]
  },
  {
   "cell_type": "code",
   "execution_count": 2,
   "id": "e6bb2cc0-4318-4d64-b182-2273f30debc7",
   "metadata": {},
   "outputs": [],
   "source": [
    "#Q1. What is Object-Oriented Programming (OOP)?\n",
    "#Ans. Object-Oriented Programming (OOP) is a programming paradigm based on the concept of \"objects\", which can contain data (attributes or properties) and code (methods or functions).\n"
   ]
  },
  {
   "cell_type": "code",
   "execution_count": 4,
   "id": "acf98821-d2be-43ef-83fa-d64ae2315f39",
   "metadata": {},
   "outputs": [],
   "source": [
    "#Q2. What is a class in OOP?\n",
    "#Ans. In Object-Oriented Programming (OOP), a class is a blueprint or template for creating objects (also called instances). It defines a data structure that encapsulates data (attributes) and behavior (methods) that operate on that data."
   ]
  },
  {
   "cell_type": "code",
   "execution_count": 6,
   "id": "c41f682d-400f-4a15-a71a-b974804e3d60",
   "metadata": {},
   "outputs": [],
   "source": [
    "#Q3. What is an object in OOP?\n",
    "#Ans. An object is a self-contained unit that combines data (attributes) and behavior (methods) defined by its class. When you create an object, you're allocating memory and initializing a real version of the class blueprint, complete with specific values.\n"
   ]
  },
  {
   "cell_type": "code",
   "execution_count": 8,
   "id": "1aa988a4-b193-4169-a4af-cb7ab0db4bac",
   "metadata": {},
   "outputs": [],
   "source": [
    "#Q4. What is the difference between abstraction and encapsulation?\n",
    "#Ans. Abstraction and encapsulation are two fundamental concepts in Object-Oriented Programming (OOP), and while they are closely related, they serve different purposes.\n",
    "# Abstraction – Abstraction means hiding the complex implementation details and showing only the essential features of an object.\n",
    "# Encapsulation –  Encapsulation is the practice of wrapping data and methods into a single unit (a class), and restricting access to some of the object's components."
   ]
  },
  {
   "cell_type": "code",
   "execution_count": 10,
   "id": "a7738350-a3e9-4b24-bbc8-cf56b6cf5625",
   "metadata": {},
   "outputs": [],
   "source": [
    "#Q5. What are dunder methods in Python?\n",
    "#Ans. dunder methods (short for \"double underscore methods\") are special methods that have double underscores at the beginning and end of their names. They are also called magic methods or special methods."
   ]
  },
  {
   "cell_type": "code",
   "execution_count": 12,
   "id": "f38fb5e3-df7a-416c-9e9e-6a4daefc4dd7",
   "metadata": {},
   "outputs": [],
   "source": [
    "#Q6. Explain the concept of inheritance in OOP.\n",
    "#Ans. Inheritance is one of the core principles of OOP. It allows a class (child/subclass) to inherit the attributes and methods of another class (parent/superclass). This promotes code reuse, hierarchical relationships, and extensibility."
   ]
  },
  {
   "cell_type": "code",
   "execution_count": 14,
   "id": "174ff953-6840-4b1b-8377-a75e0b8fcf2e",
   "metadata": {},
   "outputs": [],
   "source": [
    "#Q7. What is polymorphism in OOP?\n",
    "#Ans. Polymorphism means “many forms.”\n",
    "# In OOP, it allows objects of different classes to be treated as if they are objects of the same superclass, while behaving differently. Polymorphism enables a single interface to represent different types of behavior."
   ]
  },
  {
   "cell_type": "code",
   "execution_count": 16,
   "id": "45111812-56fd-418b-9262-ef05b9d33bad",
   "metadata": {},
   "outputs": [],
   "source": [
    "#Q8. How is encapsulation achieved in Python?\n",
    "#Ans. Encapsulation in Python is the practice of hiding internal data and providing controlled access through methods. It helps protect object integrity and prevents external code from modifying internal details directly."
   ]
  },
  {
   "cell_type": "code",
   "execution_count": 18,
   "id": "dc744736-b94e-4a1b-a69d-cf2164ca3c12",
   "metadata": {},
   "outputs": [],
   "source": [
    "#Q9. What is a constructor in Python?\n",
    "#Ans. In Python, a constructor is a special method that is automatically called when a new object is created from a class. Its main job is to initialize the object's attributes."
   ]
  },
  {
   "cell_type": "code",
   "execution_count": 20,
   "id": "7e468004-609a-4391-a41a-09a87c03edee",
   "metadata": {},
   "outputs": [],
   "source": [
    "#Q10. What are class and static methods in Python?\n",
    "#Ans. explanation of class methods and static methods in Python:\n",
    "# Class Methods- Methods that are bound to the class rather than the instance.\n",
    "# Use case: Used when you need to access or modify the class state (like class variables) or provide alternative constructors.\n",
    "\n",
    "# Static Methods- Methods that do not take self or cls as the first parameter.\n",
    "# Use case: Group utility functions inside a class because they logically belong there, but they don't need access to the instance or class."
   ]
  },
  {
   "cell_type": "code",
   "execution_count": 22,
   "id": "b0bb29b8-ef13-4e3e-9c7d-f4ab6c909a48",
   "metadata": {},
   "outputs": [],
   "source": [
    "#Q11. What is method overloading in Python?\n",
    "#Ans. Method overloading means having multiple methods with the same name but different parameters (different type or number of arguments) in the same class.\n"
   ]
  },
  {
   "cell_type": "code",
   "execution_count": 24,
   "id": "91c0bbdc-f928-4b38-b646-b423fee185ae",
   "metadata": {},
   "outputs": [],
   "source": [
    "#Q12. What is method overriding in OOP?\n",
    "#Ans. Method overriding is a feature in Object-Oriented Programming where a child (subclass) provides a new implementation for a method that is already defined in its parent (superclass)."
   ]
  },
  {
   "cell_type": "code",
   "execution_count": 26,
   "id": "10d2d3ef-dd6d-4596-b715-c7ffa7626916",
   "metadata": {},
   "outputs": [],
   "source": [
    "#Q13. What is a property decorator in Python?\n",
    "#Ans. The property decorator (@property) is a built-in Python feature that allows you to define methods that behave like attributes. It provides a clean and Pythonic way to manage attribute access with getter, setter, and deleter functionality — without changing the way you access the attribute from outside the class."
   ]
  },
  {
   "cell_type": "code",
   "execution_count": 28,
   "id": "7858ef16-029c-4f97-a6ab-668b1717de3d",
   "metadata": {},
   "outputs": [],
   "source": [
    "#Q14. Why is polymorphism important in OOP?\n",
    "#Ans. Polymorphism is the ability of different classes to provide different implementations of the same method or interface, allowing objects of different types to be treated uniformly through a common interface."
   ]
  },
  {
   "cell_type": "code",
   "execution_count": 30,
   "id": "30e2fd72-b9ae-420b-8889-e984940dbca1",
   "metadata": {},
   "outputs": [],
   "source": [
    "#Q15. What is an abstract class in Python?\n",
    "#Ans. An abstract class is a class that cannot be instantiated directly and is designed to be a blueprint for other classes. It defines one or more abstract methods that must be implemented by its subclasses."
   ]
  },
  {
   "cell_type": "code",
   "execution_count": 32,
   "id": "bcd7da00-ddd1-4e1b-9d59-700ffce98ba0",
   "metadata": {},
   "outputs": [],
   "source": [
    "#Q16. What are the advantages of OOP.\n",
    "#Ans. the advantages of Object-Oriented Programming (OOP):\n",
    "#* Modularity- Code is organized into classes and objects, making it easier to manage, debug, and understand.\n",
    "#* Reusability- Classes and objects can be reused across programs, saving time and effort.\n",
    "#* Encapsulation- Data and methods are bundled together, hiding internal details and protecting object integrity.\n",
    "#* Inheritance- Enables new classes to inherit properties and behaviors from existing classes, promoting code reuse and reducing redundancy.\n",
    "#* Polymorphism- Allows methods to behave differently based on the object calling them, increasing flexibility and integration.\n",
    "#* Maintainability- Easier to update and maintain code due to clear structure and separation of concerns."
   ]
  },
  {
   "cell_type": "code",
   "execution_count": 34,
   "id": "22909c6b-8af6-4f24-b189-b0b4f67b9ae3",
   "metadata": {},
   "outputs": [],
   "source": [
    "#Q17. What is the difference between a class variable and an instance variable?\n",
    "#Ans. the difference between class variables and instance variables in Python:\n",
    "#* Class Variable\n",
    "# Shared by all instances of the class.\n",
    "# Defined inside the class but outside any methods.\n",
    "# Holds data that is common to all objects of that class.\n",
    "# Changing a class variable affects all instances (unless overridden).\n",
    "\n",
    "#* Instance Variable\n",
    "# Unique to each object (instance).\n",
    "# Defined inside methods (usually in __init__) using self.\n",
    "# Holds data specific to the individual object."
   ]
  },
  {
   "cell_type": "code",
   "execution_count": 36,
   "id": "3cbdd720-e469-4631-b78b-36d5177a9051",
   "metadata": {},
   "outputs": [],
   "source": [
    "#Q18. What is multiple inheritance in Python?\n",
    "#Ans. Multiple inheritance is a feature where a class can inherit attributes and methods from more than one parent class. This allows the child class to combine behaviors and properties from multiple sources."
   ]
  },
  {
   "cell_type": "code",
   "execution_count": 38,
   "id": "199dc469-ec2f-458d-8ef9-34b309f5db75",
   "metadata": {},
   "outputs": [],
   "source": [
    "#Q19. Explain the purpose of ‘’__str__’ and ‘__repr__’ ‘ methods in Python.\n",
    "#Ans. Here’s a clear explanation of the __str__ and __repr__ methods in Python: oth are special (dunder) methods used to provide string representations of objects, but they serve different purposes-\n",
    "#* 🔹 __str__\n",
    "# Returns a user-friendly, readable string representation of an object.\n",
    "# Used by the built-in str() function and when you print the object.\n",
    "# Meant for end users or informal display.\n",
    "\n",
    "#*  __repr__\n",
    "# Returns an official string representation of the object.\n",
    "# Used by the built-in repr() function and in the interactive interpreter.\n",
    "# Should provide a string that, if possible, can be used to recreate the object (or at least gives detailed info).\n",
    "# Meant for developers or debugging."
   ]
  },
  {
   "cell_type": "code",
   "execution_count": 40,
   "id": "659b0e0b-7141-48e6-9b07-a73e20c928e5",
   "metadata": {},
   "outputs": [],
   "source": [
    "#Q20. What is the significance of the ‘super()’ function in Python?\n",
    "#Ans. super() is a built-in Python function that returns a proxy object representing the parent (super) class. It is mainly used to call methods from a superclass in a subclass, especially in inheritance scenarios."
   ]
  },
  {
   "cell_type": "code",
   "execution_count": 42,
   "id": "28f696ca-7887-4d81-ba5d-03d3c18a21e4",
   "metadata": {},
   "outputs": [],
   "source": [
    "#Q21. What is the significance of the __del__ method in Python.\n",
    "#Ans. The __del__ method is a destructor method in Python. It is called when an object is about to be destroyed — that is, when there are no more references to the object and the garbage collector is about to reclaim its memory."
   ]
  },
  {
   "cell_type": "code",
   "execution_count": 44,
   "id": "5ec6a881-9837-48fb-af50-daa05ecff6a2",
   "metadata": {},
   "outputs": [],
   "source": [
    "#Q22. What is the difference between @staticmethod and @classmethod in Python?\n",
    "#Ans.  the difference between @staticmethod and @classmethod in Python:\n",
    "#* @staticmethod\n",
    "# Defines a method that does not receive an implicit first argument (no self or cls).\n",
    "# It behaves like a regular function inside a class.\n",
    "# Cannot access or modify instance (self) or class (cls) state.\n",
    "# Called using the class name or instance, but no access to class or instance data.\n",
    "\n",
    "#* @classmethod\n",
    "# Defines a method that receives the class itself as the first argument (cls) instead of an instance.\n",
    "# Can access and modify class state.\n",
    "# Often used for factory methods or methods that affect the class as a whole.\n"
   ]
  },
  {
   "cell_type": "code",
   "execution_count": 46,
   "id": "0cc9dfd0-a737-441c-8bac-3ee97196e458",
   "metadata": {},
   "outputs": [],
   "source": [
    "#Q23. How does polymorphism work in Python with inheritance?\n",
    "#Ans. Polymorphism allows different subclasses of the same parent class to implement the same method differently, and Python will call the appropriate method depending on the actual object type at runtime. This means you can use a common interface while each subclass behaves in its own unique way."
   ]
  },
  {
   "cell_type": "code",
   "execution_count": 48,
   "id": "46e2b8f1-1829-48a9-a734-1e70f66d2075",
   "metadata": {},
   "outputs": [],
   "source": [
    "#Q24. What is method chaining in Python OOP?\n",
    "#Ans. Method chaining is a technique where multiple method calls are linked together in a single statement, one after another. Each method returns the object itself (self), allowing the next method to be called on the same object seamlessly."
   ]
  },
  {
   "cell_type": "code",
   "execution_count": 50,
   "id": "6c708875-6586-44b7-b2d5-8fa0bb151317",
   "metadata": {},
   "outputs": [],
   "source": [
    "#Q25. What is the purpose of the __call__ method in Python?\n",
    "#Ans. The __call__ method allows an instance of a class to be called like a function. When you define __call__ in a class, you can use the object itself with parentheses, just like a regular function."
   ]
  },
  {
   "cell_type": "markdown",
   "id": "95b6586f-4e2d-49cd-ab95-02a9bf9a0ff8",
   "metadata": {},
   "source": [
    "##Practical Questions-"
   ]
  },
  {
   "cell_type": "code",
   "execution_count": 53,
   "id": "6fe750b7-5bad-4040-b229-1a28355211fc",
   "metadata": {},
   "outputs": [
    {
     "name": "stdout",
     "output_type": "stream",
     "text": [
      "This animal makes a sound\n",
      "Bark!\n"
     ]
    }
   ],
   "source": [
    "#Q1. . Create a parent class Animal with a method speak() that prints a generic message. Create a child class Dog that overrides the speak() method to print \"Bark!\".\n",
    "#Ans. the Python code-\n",
    "class Animal:\n",
    "    def speak(self):\n",
    "        print(\"This animal makes a sound\")\n",
    "\n",
    "class Dog(Animal):\n",
    "    def speak(self):\n",
    "        print(\"Bark!\")\n",
    "\n",
    "# Example usage:\n",
    "animal = Animal()\n",
    "animal.speak()  # Output: This animal makes a sound\n",
    "\n",
    "dog = Dog()\n",
    "dog.speak()     # Output: Bark!\n"
   ]
  },
  {
   "cell_type": "code",
   "execution_count": 55,
   "id": "e52e3fd7-00a2-4d0e-8d89-59bd6373b624",
   "metadata": {},
   "outputs": [
    {
     "name": "stdout",
     "output_type": "stream",
     "text": [
      "Circle area: 78.53981633974483\n",
      "Rectangle area: 24\n"
     ]
    }
   ],
   "source": [
    "#Q2. Write a program to create an abstract class Shape with a method area(). Derive classes Circle and Rectangle from it and implement the area() method in both.\n",
    "#Ans. Here's a Python program using an abstract class Shape with abstract method area(), and derived classes Circle and Rectangle implementing it:\n",
    "from abc import ABC, abstractmethod\n",
    "import math\n",
    "\n",
    "class Shape(ABC):\n",
    "    @abstractmethod\n",
    "    def area(self):\n",
    "        pass\n",
    "\n",
    "class Circle(Shape):\n",
    "    def __init__(self, radius):\n",
    "        self.radius = radius\n",
    "\n",
    "    def area(self):\n",
    "        return math.pi * self.radius ** 2\n",
    "\n",
    "class Rectangle(Shape):\n",
    "    def __init__(self, width, height):\n",
    "        self.width = width\n",
    "        self.height = height\n",
    "\n",
    "    def area(self):\n",
    "        return self.width * self.height\n",
    "\n",
    "# Example usage:\n",
    "circle = Circle(5)\n",
    "print(f\"Circle area: {circle.area()}\")\n",
    "\n",
    "rectangle = Rectangle(4, 6)\n",
    "print(f\"Rectangle area: {rectangle.area()}\")\n"
   ]
  },
  {
   "cell_type": "code",
   "execution_count": 57,
   "id": "44511844-b200-47c6-8f6f-f1961ace818b",
   "metadata": {},
   "outputs": [
    {
     "name": "stdout",
     "output_type": "stream",
     "text": [
      "Vehicle type: Electric\n",
      "Car brand: Tesla\n",
      "Battery capacity: 100 kWh\n"
     ]
    }
   ],
   "source": [
    "#Q3. Implement a multi-level inheritance scenario where a class Vehicle has an attribute type. Derive a class Car and further derive a class ElectricCar that adds a battery attribute.\n",
    "#Ans. Here’s an implementation of a multi-level inheritance with Vehicle, Car, and ElectricCar classes:\n",
    "class Vehicle:\n",
    "    def __init__(self, vehicle_type):\n",
    "        self.type = vehicle_type\n",
    "\n",
    "    def show_type(self):\n",
    "        print(f\"Vehicle type: {self.type}\")\n",
    "\n",
    "class Car(Vehicle):\n",
    "    def __init__(self, vehicle_type, brand):\n",
    "        super().__init__(vehicle_type)\n",
    "        self.brand = brand\n",
    "\n",
    "    def show_brand(self):\n",
    "        print(f\"Car brand: {self.brand}\")\n",
    "\n",
    "class ElectricCar(Car):\n",
    "    def __init__(self, vehicle_type, brand, battery_capacity):\n",
    "        super().__init__(vehicle_type, brand)\n",
    "        self.battery = battery_capacity  # battery capacity in kWh\n",
    "\n",
    "    def show_battery(self):\n",
    "        print(f\"Battery capacity: {self.battery} kWh\")\n",
    "\n",
    "# Example usage:\n",
    "ecar = ElectricCar(\"Electric\", \"Tesla\", 100)\n",
    "ecar.show_type()      # Vehicle type: Electric\n",
    "ecar.show_brand()     # Car brand: Tesla\n",
    "ecar.show_battery()   # Battery capacity: 100 kWh\n"
   ]
  },
  {
   "cell_type": "code",
   "execution_count": 59,
   "id": "ba43a681-bc5d-4ae2-9f52-25b53ad43d76",
   "metadata": {},
   "outputs": [
    {
     "name": "stdout",
     "output_type": "stream",
     "text": [
      "Sparrow can fly high.\n",
      "Penguins can't fly, they swim instead.\n"
     ]
    }
   ],
   "source": [
    "#Q4.  Demonstrate polymorphism by creating a base class Bird with a method fly(). Create two derived classes Sparrow and Penguin that override the fly() method.\n",
    "#Ans. Here's a simple example demonstrating polymorphism with a base class Bird and derived classes Sparrow and Penguin overriding the fly() method:\n",
    "class Bird:\n",
    "    def fly(self):\n",
    "        print(\"Some birds can fly.\")\n",
    "\n",
    "class Sparrow(Bird):\n",
    "    def fly(self):\n",
    "        print(\"Sparrow can fly high.\")\n",
    "\n",
    "class Penguin(Bird):\n",
    "    def fly(self):\n",
    "        print(\"Penguins can't fly, they swim instead.\")\n",
    "\n",
    "# Example usage:\n",
    "def make_bird_fly(bird):\n",
    "    bird.fly()\n",
    "\n",
    "sparrow = Sparrow()\n",
    "penguin = Penguin()\n",
    "\n",
    "make_bird_fly(sparrow)  # Output: Sparrow can fly high.\n",
    "make_bird_fly(penguin)  # Output: Penguins can't fly, they swim instead.\n"
   ]
  },
  {
   "cell_type": "code",
   "execution_count": 61,
   "id": "5b12654c-c701-4feb-8304-127ad66d33b7",
   "metadata": {},
   "outputs": [
    {
     "name": "stdout",
     "output_type": "stream",
     "text": [
      "Deposited: $50\n",
      "Withdrawn: $30\n",
      "Current balance: $120\n"
     ]
    }
   ],
   "source": [
    "#Q5.  Write a program to demonstrate encapsulation by creating a class BankAccount with private attributes balance and methods to deposit, withdraw, and check balance.\n",
    "#Ans. Here's a Python program demonstrating encapsulation using private attributes and methods in a BankAccount class:\n",
    "class BankAccount:\n",
    "    def __init__(self, initial_balance=0):\n",
    "        self.__balance = initial_balance  # Private attribute\n",
    "\n",
    "    def deposit(self, amount):\n",
    "        if amount > 0:\n",
    "            self.__balance += amount\n",
    "            print(f\"Deposited: ${amount}\")\n",
    "        else:\n",
    "            print(\"Deposit amount must be positive.\")\n",
    "\n",
    "    def withdraw(self, amount):\n",
    "        if amount > self.__balance:\n",
    "            print(\"Insufficient balance!\")\n",
    "        elif amount <= 0:\n",
    "            print(\"Withdrawal amount must be positive.\")\n",
    "        else:\n",
    "            self.__balance -= amount\n",
    "            print(f\"Withdrawn: ${amount}\")\n",
    "\n",
    "    def check_balance(self):\n",
    "        print(f\"Current balance: ${self.__balance}\")\n",
    "\n",
    "# Example usage:\n",
    "account = BankAccount(100)\n",
    "account.deposit(50)     # Deposited: $50\n",
    "account.withdraw(30)    # Withdrawn: $30\n",
    "account.check_balance() # Current balance: $120\n",
    "\n",
    "# Trying to access private attribute directly will raise error:\n",
    "# print(account.__balance)  # AttributeError\n"
   ]
  },
  {
   "cell_type": "code",
   "execution_count": 63,
   "id": "e4bd1051-bc3c-4530-8d64-033492e564e8",
   "metadata": {},
   "outputs": [
    {
     "name": "stdout",
     "output_type": "stream",
     "text": [
      "Strumming the guitar\n",
      "Playing the piano keys\n"
     ]
    }
   ],
   "source": [
    "#Q6.  Demonstrate runtime polymorphism using a method play() in a base class Instrument. Derive classes Guitar and Piano that implement their own version of play().\n",
    "#Ans. Here's a Python example demonstrating runtime polymorphism with a base class Instrument and derived classes Guitar and Piano, each implementing their own play() method:\n",
    "class Instrument:\n",
    "    def play(self):\n",
    "        print(\"Playing some instrument\")\n",
    "\n",
    "class Guitar(Instrument):\n",
    "    def play(self):\n",
    "        print(\"Strumming the guitar\")\n",
    "\n",
    "class Piano(Instrument):\n",
    "    def play(self):\n",
    "        print(\"Playing the piano keys\")\n",
    "\n",
    "# Function demonstrating polymorphism\n",
    "def perform(instrument):\n",
    "    instrument.play()\n",
    "\n",
    "guitar = Guitar()\n",
    "piano = Piano()\n",
    "\n",
    "perform(guitar)  # Output: Strumming the guitar\n",
    "perform(piano)   # Output: Playing the piano keys\n"
   ]
  },
  {
   "cell_type": "code",
   "execution_count": 65,
   "id": "1b26458f-6b78-473f-92d3-9adb911184b4",
   "metadata": {},
   "outputs": [
    {
     "name": "stdout",
     "output_type": "stream",
     "text": [
      "15\n",
      "5\n"
     ]
    }
   ],
   "source": [
    "#Q7.  Create a class MathOperations with a class method add_numbers() to add two numbers and a static method subtract_numbers() to subtract two numbers.\n",
    "#Ans. Here's the Python class MathOperations with a class method add_numbers() and a static method subtract_numbers() as requested:\n",
    "class MathOperations:\n",
    "    @classmethod\n",
    "    def add_numbers(cls, a, b):\n",
    "        return a + b\n",
    "\n",
    "    @staticmethod\n",
    "    def subtract_numbers(a, b):\n",
    "        return a - b\n",
    "\n",
    "# Example usage:\n",
    "print(MathOperations.add_numbers(10, 5))      # Output: 15\n",
    "print(MathOperations.subtract_numbers(10, 5)) # Output: 5\n"
   ]
  },
  {
   "cell_type": "code",
   "execution_count": 67,
   "id": "0bc2ccfb-0594-40ff-8cd4-297d366f9d1c",
   "metadata": {},
   "outputs": [
    {
     "name": "stdout",
     "output_type": "stream",
     "text": [
      "3\n"
     ]
    }
   ],
   "source": [
    "#Q8. Implement a class Person with a class method to count the total number of persons created.\n",
    "#Ans.Here's an implementation of a Person class with a class method to count how many Person instances have been created:\n",
    "class Person:\n",
    "    count = 0  # Class variable to keep track of instances\n",
    "\n",
    "    def __init__(self, name):\n",
    "        self.name = name\n",
    "        Person.count += 1\n",
    "\n",
    "    @classmethod\n",
    "    def total_persons(cls):\n",
    "        return cls.count\n",
    "\n",
    "# Example usage:\n",
    "p1 = Person(\"Alice\")\n",
    "p2 = Person(\"Bob\")\n",
    "p3 = Person(\"Charlie\")\n",
    "\n",
    "print(Person.total_persons())  # Output: 3\n",
    "\n",
    "\n"
   ]
  },
  {
   "cell_type": "code",
   "execution_count": 69,
   "id": "d9c9fb2b-5866-474d-a000-7255c3e09d17",
   "metadata": {},
   "outputs": [
    {
     "name": "stdout",
     "output_type": "stream",
     "text": [
      "3/4\n"
     ]
    }
   ],
   "source": [
    "#Q9. Write a class Fraction with attributes numerator and denominator. Override the str method to display the fraction as \"numerator/denominator\".\n",
    "#Ans. Here's a Fraction class with numerator and denominator attributes and an overridden __str__ method to display the fraction nicely:\n",
    "class Fraction:\n",
    "    def __init__(self, numerator, denominator):\n",
    "        self.numerator = numerator\n",
    "        self.denominator = denominator\n",
    "\n",
    "    def __str__(self):\n",
    "        return f\"{self.numerator}/{self.denominator}\"\n",
    "\n",
    "# Example usage:\n",
    "f = Fraction(3, 4)\n",
    "print(f)  # Output: 3/4\n"
   ]
  },
  {
   "cell_type": "code",
   "execution_count": 71,
   "id": "f1fe8e4b-c748-44f0-aaa9-66ec46aa97b0",
   "metadata": {},
   "outputs": [
    {
     "name": "stdout",
     "output_type": "stream",
     "text": [
      "Vector(6, 8)\n"
     ]
    }
   ],
   "source": [
    "#Q10.  Demonstrate operator overloading by creating a class Vector and overriding the add method to add two vectors.\n",
    "#Ans. Here's a Vector class demonstrating operator overloading by overriding the __add__ method to add two vectors:\n",
    "class Vector:\n",
    "    def __init__(self, x, y):\n",
    "        self.x = x\n",
    "        self.y = y\n",
    "\n",
    "    def __add__(self, other):\n",
    "        if isinstance(other, Vector):\n",
    "            return Vector(self.x + other.x, self.y + other.y)\n",
    "        return NotImplemented\n",
    "\n",
    "    def __str__(self):\n",
    "        return f\"Vector({self.x}, {self.y})\"\n",
    "\n",
    "# Example usage:\n",
    "v1 = Vector(2, 3)\n",
    "v2 = Vector(4, 5)\n",
    "v3 = v1 + v2\n",
    "\n",
    "print(v3)  # Output: Vector(6, 8)\n"
   ]
  },
  {
   "cell_type": "code",
   "execution_count": 73,
   "id": "6006ff33-68ca-4a35-8a0e-95b00eac078e",
   "metadata": {},
   "outputs": [
    {
     "name": "stdout",
     "output_type": "stream",
     "text": [
      "Hello, my name is Alice and I am 30 years old.\n"
     ]
    }
   ],
   "source": [
    "#Q11.  Create a class Person with attributes name and age. Add a method greet() that prints \"Hello, my name is {name} and I am {age} years old.\"\n",
    "#Ans. Here’s a simple Person class with name and age attributes and a greet() method:\n",
    "class Person:\n",
    "    def __init__(self, name, age):\n",
    "        self.name = name\n",
    "        self.age = age\n",
    "\n",
    "    def greet(self):\n",
    "        print(f\"Hello, my name is {self.name} and I am {self.age} years old.\")\n",
    "\n",
    "# Example usage:\n",
    "p = Person(\"Alice\", 30)\n",
    "p.greet()  # Output: Hello, my name is Alice and I am 30 years old.\n"
   ]
  },
  {
   "cell_type": "code",
   "execution_count": 75,
   "id": "476c562f-24f5-4c77-96a8-000941c5e2ab",
   "metadata": {},
   "outputs": [
    {
     "name": "stdout",
     "output_type": "stream",
     "text": [
      "John's average grade is 86.25\n"
     ]
    }
   ],
   "source": [
    "#Q12.  Implement a class Student with attributes name and grades. Create a method average_grade() to compute the average of the grades.\n",
    "#Ans. Here's a Student class with name and grades attributes and a method average_grade() to calculate the average grade:\n",
    "class Student:\n",
    "    def __init__(self, name, grades):\n",
    "        self.name = name\n",
    "        self.grades = grades  # grades should be a list of numbers\n",
    "\n",
    "    def average_grade(self):\n",
    "        if not self.grades:\n",
    "            return 0  # Avoid division by zero if grades list is empty\n",
    "        return sum(self.grades) / len(self.grades)\n",
    "\n",
    "# Example usage:\n",
    "student = Student(\"John\", [85, 90, 78, 92])\n",
    "print(f\"{student.name}'s average grade is {student.average_grade():.2f}\")\n",
    "# Output: John's average grade is 86.25\n"
   ]
  },
  {
   "cell_type": "code",
   "execution_count": 77,
   "id": "4e6ca829-74ce-4a5c-9d1a-ec559fc824b2",
   "metadata": {},
   "outputs": [
    {
     "name": "stdout",
     "output_type": "stream",
     "text": [
      "Area of rectangle: 50\n"
     ]
    }
   ],
   "source": [
    "#Q13.  Create a class Rectangle with methods set_dimensions() to set the dimensions and area() to calculate the area.\n",
    "#Ans. Here's a Rectangle class with a set_dimensions() method to set the width and height, and an area() method to calculate the area:\n",
    "class Rectangle:\n",
    "    def __init__(self):\n",
    "        self.width = 0\n",
    "        self.height = 0\n",
    "\n",
    "    def set_dimensions(self, width, height):\n",
    "        self.width = width\n",
    "        self.height = height\n",
    "\n",
    "    def area(self):\n",
    "        return self.width * self.height\n",
    "\n",
    "# Example usage:\n",
    "rect = Rectangle()\n",
    "rect.set_dimensions(5, 10)\n",
    "print(f\"Area of rectangle: {rect.area()}\")  # Output: Area of rectangle: 50\n"
   ]
  },
  {
   "cell_type": "code",
   "execution_count": 79,
   "id": "b97e8129-420d-4813-93a4-5a42afea53aa",
   "metadata": {},
   "outputs": [
    {
     "name": "stdout",
     "output_type": "stream",
     "text": [
      "Alice's salary: $1000\n",
      "Bob's salary: $1700\n"
     ]
    }
   ],
   "source": [
    "#Q14. Create a class Employee with a method calculate_salary() that computes the salary based on hours worked and hourly rate. Create a derived class Manager that adds a bonus to the salary.\n",
    "#Ans. Here's a Python program that defines an Employee class with a calculate_salary() method, and a Manager class that inherits from it and adds a bonus:\n",
    "class Employee:\n",
    "    def __init__(self, name, hours_worked, hourly_rate):\n",
    "        self.name = name\n",
    "        self.hours_worked = hours_worked\n",
    "        self.hourly_rate = hourly_rate\n",
    "\n",
    "    def calculate_salary(self):\n",
    "        return self.hours_worked * self.hourly_rate\n",
    "\n",
    "class Manager(Employee):\n",
    "    def __init__(self, name, hours_worked, hourly_rate, bonus):\n",
    "        super().__init__(name, hours_worked, hourly_rate)\n",
    "        self.bonus = bonus\n",
    "\n",
    "    def calculate_salary(self):\n",
    "        base_salary = super().calculate_salary()\n",
    "        return base_salary + self.bonus\n",
    "\n",
    "# Example usage:\n",
    "emp = Employee(\"Alice\", 40, 25)\n",
    "print(f\"{emp.name}'s salary: ${emp.calculate_salary()}\")  # Output: Alice's salary: $1000\n",
    "\n",
    "mgr = Manager(\"Bob\", 40, 30, 500)\n",
    "print(f\"{mgr.name}'s salary: ${mgr.calculate_salary()}\")  # Output: Bob's salary: $1700\n"
   ]
  },
  {
   "cell_type": "code",
   "execution_count": 81,
   "id": "cd85a858-e69a-45bd-943b-77780fe8d4e6",
   "metadata": {},
   "outputs": [
    {
     "name": "stdout",
     "output_type": "stream",
     "text": [
      "Total price for 3 Laptops: $2400\n"
     ]
    }
   ],
   "source": [
    "#Q15.  Create a class Product with attributes name, price, and quantity. Implement a method total_price() that calculates the total price of the product.\n",
    "#Ans. Here's a simple implementation of a Product class with a total_price() method that calculates the total cost:\n",
    "class Product:\n",
    "    def __init__(self, name, price, quantity):\n",
    "        self.name = name\n",
    "        self.price = price      # Price per unit\n",
    "        self.quantity = quantity\n",
    "\n",
    "    def total_price(self):\n",
    "        return self.price * self.quantity\n",
    "\n",
    "# Example usage:\n",
    "product = Product(\"Laptop\", 800, 3)\n",
    "print(f\"Total price for {product.quantity} {product.name}s: ${product.total_price()}\")\n",
    "# Output: Total price for 3 Laptops: $2400\n"
   ]
  },
  {
   "cell_type": "code",
   "execution_count": 83,
   "id": "1b0b7450-ed81-46b9-95cb-f9d7cb529989",
   "metadata": {},
   "outputs": [
    {
     "name": "stdout",
     "output_type": "stream",
     "text": [
      "Cow says: Moo\n",
      "Sheep says: Baa\n"
     ]
    }
   ],
   "source": [
    "#Q16.   Create a class Animal with an abstract method sound(). Create two derived classes Cow and Sheep that implement the sound() method.\n",
    "#Ans. Here's a Python program using an abstract base class Animal with an abstract method sound(), and two derived classes Cow and Sheep that implement it:\n",
    "from abc import ABC, abstractmethod\n",
    "\n",
    "class Animal(ABC):\n",
    "    @abstractmethod\n",
    "    def sound(self):\n",
    "        pass\n",
    "\n",
    "class Cow(Animal):\n",
    "    def sound(self):\n",
    "        return \"Moo\"\n",
    "\n",
    "class Sheep(Animal):\n",
    "    def sound(self):\n",
    "        return \"Baa\"\n",
    "\n",
    "# Example usage:\n",
    "cow = Cow()\n",
    "sheep = Sheep()\n",
    "\n",
    "print(f\"Cow says: {cow.sound()}\")     # Output: Cow says: Moo\n",
    "print(f\"Sheep says: {sheep.sound()}\") # Output: Sheep says: Baa\n"
   ]
  },
  {
   "cell_type": "code",
   "execution_count": 85,
   "id": "7dbe7ef6-1164-4e99-9044-d372aff54d93",
   "metadata": {},
   "outputs": [
    {
     "name": "stdout",
     "output_type": "stream",
     "text": [
      "'To Kill a Mockingbird' by Harper Lee, published in 1960\n"
     ]
    }
   ],
   "source": [
    "#Q17.  Create a class Book with attributes title, author, and year_published. Add a method get_book_info() that returns a formatted string with the book's details.\n",
    "#Ans. Here's a simple implementation of a Book class with a method get_book_info() that returns the book's details as a formatted string:\n",
    "class Book:\n",
    "    def __init__(self, title, author, year_published):\n",
    "        self.title = title\n",
    "        self.author = author\n",
    "        self.year_published = year_published\n",
    "\n",
    "    def get_book_info(self):\n",
    "        return f\"'{self.title}' by {self.author}, published in {self.year_published}\"\n",
    "\n",
    "# Example usage:\n",
    "book = Book(\"To Kill a Mockingbird\", \"Harper Lee\", 1960)\n",
    "print(book.get_book_info())\n",
    "# Output: 'To Kill a Mockingbird' by Harper Lee, published in 1960\n"
   ]
  },
  {
   "cell_type": "code",
   "execution_count": 87,
   "id": "336ba0c5-ed9f-481b-99d0-44dc544daf89",
   "metadata": {},
   "outputs": [
    {
     "name": "stdout",
     "output_type": "stream",
     "text": [
      "Address: 123 Luxury Lane, Price: $2500000, Rooms: 10\n"
     ]
    }
   ],
   "source": [
    "#Q18.  Create a class House with attributes address and price. Create a derived class Mansion that adds an attribute number_of_rooms.\n",
    "#Ans. Here's a Python program that defines a base class House with attributes address and price, and a derived class Mansion that adds an attribute number_of_rooms:\n",
    "class House:\n",
    "    def __init__(self, address, price):\n",
    "        self.address = address\n",
    "        self.price = price\n",
    "\n",
    "    def get_info(self):\n",
    "        return f\"Address: {self.address}, Price: ${self.price}\"\n",
    "\n",
    "class Mansion(House):\n",
    "    def __init__(self, address, price, number_of_rooms):\n",
    "        super().__init__(address, price)\n",
    "        self.number_of_rooms = number_of_rooms\n",
    "\n",
    "    def get_info(self):\n",
    "        return f\"{super().get_info()}, Rooms: {self.number_of_rooms}\"\n",
    "\n",
    "# Example usage:\n",
    "m = Mansion(\"123 Luxury Lane\", 2500000, 10)\n",
    "print(m.get_info())\n",
    "# Output: Address: 123 Luxury Lane, Price: $2500000, Rooms: 10\n"
   ]
  },
  {
   "cell_type": "code",
   "execution_count": null,
   "id": "f3f401b7-2a2e-4655-8553-59b415a03d7b",
   "metadata": {},
   "outputs": [],
   "source": []
  }
 ],
 "metadata": {
  "kernelspec": {
   "display_name": "Python [conda env:base] *",
   "language": "python",
   "name": "conda-base-py"
  },
  "language_info": {
   "codemirror_mode": {
    "name": "ipython",
    "version": 3
   },
   "file_extension": ".py",
   "mimetype": "text/x-python",
   "name": "python",
   "nbconvert_exporter": "python",
   "pygments_lexer": "ipython3",
   "version": "3.12.7"
  }
 },
 "nbformat": 4,
 "nbformat_minor": 5
}
